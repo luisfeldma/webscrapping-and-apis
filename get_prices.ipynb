{
 "cells": [
  {
   "cell_type": "markdown",
   "metadata": {},
   "source": [
    "## Pegando dados de preços do mercado livre"
   ]
  },
  {
   "cell_type": "code",
   "execution_count": 1,
   "metadata": {},
   "outputs": [],
   "source": [
    "from bs4 import BeautifulSoup\n",
    "import requests\n",
    "import pandas as pd\n",
    "from datetime import datetime"
   ]
  },
  {
   "cell_type": "code",
   "execution_count": 2,
   "metadata": {},
   "outputs": [],
   "source": [
    "# Seleciono plavras chave para procurar no site do mercado livre\n",
    "search_commands = ['celular', 'tv', 'geladeira', 'microondas', 'fogao', 'maquiagem', 'iphone']"
   ]
  },
  {
   "cell_type": "code",
   "execution_count": 3,
   "metadata": {},
   "outputs": [
    {
     "name": "stdout",
     "output_type": "stream",
     "text": [
      "Wall time: 11.4 s\n"
     ]
    }
   ],
   "source": [
    "%%time\n",
    "data = pd.DataFrame(index=range(0,60*len(search_commands)), columns=['product_name', 'product_price', 'product_search', 'search_date'])\n",
    "n=0\n",
    "errors={}\n",
    "for search in search_commands:\n",
    "    \n",
    "    url = 'https://lista.mercadolivre.com.br/{}#D[A:{}]'.format(search, search)\n",
    "    r = requests.get(url)\n",
    "    soup = BeautifulSoup(r.content, 'html.parser') \n",
    "    items = soup.find_all('li', class_='ui-search-layout__item')\n",
    "    \n",
    "    # Salvo os dados de cada item do site em um dataframe\n",
    "    for item in items:\n",
    "        try:\n",
    "            try:\n",
    "                name = item.find('h2', class_=\"ui-search-item__title ui-search-item__group__element\").text\n",
    "            except:\n",
    "                name = item.find('h2', class_=\"ui-search-item__title\").text\n",
    "            price = item.find('span', class_=\"price-tag-fraction\").text.replace('.', '')\n",
    "\n",
    "            data.loc[n, 'product_name'] = name\n",
    "            data.loc[n, 'product_price'] = price\n",
    "            data.loc[n, 'product_search'] = search\n",
    "            data.loc[n, 'search_date'] = datetime.today()\n",
    "            n+=1\n",
    "        except:\n",
    "            errors.update({name,price,search})\n",
    "            pass"
   ]
  },
  {
   "cell_type": "code",
   "execution_count": 4,
   "metadata": {},
   "outputs": [
    {
     "data": {
      "text/html": [
       "<div>\n",
       "<style scoped>\n",
       "    .dataframe tbody tr th:only-of-type {\n",
       "        vertical-align: middle;\n",
       "    }\n",
       "\n",
       "    .dataframe tbody tr th {\n",
       "        vertical-align: top;\n",
       "    }\n",
       "\n",
       "    .dataframe thead th {\n",
       "        text-align: right;\n",
       "    }\n",
       "</style>\n",
       "<table border=\"1\" class=\"dataframe\">\n",
       "  <thead>\n",
       "    <tr style=\"text-align: right;\">\n",
       "      <th></th>\n",
       "      <th>product_name</th>\n",
       "      <th>product_price</th>\n",
       "      <th>product_search</th>\n",
       "      <th>search_date</th>\n",
       "    </tr>\n",
       "  </thead>\n",
       "  <tbody>\n",
       "    <tr>\n",
       "      <th>0</th>\n",
       "      <td>Samsung Galaxy S10+ Dual SIM 128 GB branco-pri...</td>\n",
       "      <td>3750</td>\n",
       "      <td>celular</td>\n",
       "      <td>2020-11-11 17:53:43.068753</td>\n",
       "    </tr>\n",
       "    <tr>\n",
       "      <th>1</th>\n",
       "      <td>Samsung Galaxy Note10 Dual SIM 256 GB Aura bla...</td>\n",
       "      <td>2969</td>\n",
       "      <td>celular</td>\n",
       "      <td>2020-11-11 17:53:43.069753</td>\n",
       "    </tr>\n",
       "    <tr>\n",
       "      <th>2</th>\n",
       "      <td>Samsung Galaxy A31 Dual SIM 128 GB prism crush...</td>\n",
       "      <td>2399</td>\n",
       "      <td>celular</td>\n",
       "      <td>2020-11-11 17:53:43.070752</td>\n",
       "    </tr>\n",
       "    <tr>\n",
       "      <th>3</th>\n",
       "      <td>Samsung Galaxy A21s Dual SIM 64 GB branco 4 GB...</td>\n",
       "      <td>1999</td>\n",
       "      <td>celular</td>\n",
       "      <td>2020-11-11 17:53:43.071751</td>\n",
       "    </tr>\n",
       "    <tr>\n",
       "      <th>4</th>\n",
       "      <td>Samsung Galaxy A01 Core Dual SIM 32 GB azul 2 ...</td>\n",
       "      <td>689</td>\n",
       "      <td>celular</td>\n",
       "      <td>2020-11-11 17:53:43.072751</td>\n",
       "    </tr>\n",
       "    <tr>\n",
       "      <th>...</th>\n",
       "      <td>...</td>\n",
       "      <td>...</td>\n",
       "      <td>...</td>\n",
       "      <td>...</td>\n",
       "    </tr>\n",
       "    <tr>\n",
       "      <th>341</th>\n",
       "      <td>iPhone 12 64 GB preto</td>\n",
       "      <td>7699</td>\n",
       "      <td>iphone</td>\n",
       "      <td>2020-11-11 17:53:51.956721</td>\n",
       "    </tr>\n",
       "    <tr>\n",
       "      <th>342</th>\n",
       "      <td>iPhone 7 128 GB prata</td>\n",
       "      <td>1900</td>\n",
       "      <td>iphone</td>\n",
       "      <td>2020-11-11 17:53:51.957720</td>\n",
       "    </tr>\n",
       "    <tr>\n",
       "      <th>343</th>\n",
       "      <td>iPhone SE 32 GB ouro rosa</td>\n",
       "      <td>1299</td>\n",
       "      <td>iphone</td>\n",
       "      <td>2020-11-11 17:53:51.958720</td>\n",
       "    </tr>\n",
       "    <tr>\n",
       "      <th>344</th>\n",
       "      <td>iPhone 11 128 GB (Product)Red</td>\n",
       "      <td>5999</td>\n",
       "      <td>iphone</td>\n",
       "      <td>2020-11-11 17:53:51.961719</td>\n",
       "    </tr>\n",
       "    <tr>\n",
       "      <th>345</th>\n",
       "      <td>iPhone SE (2nd Generation) 64 GB branco</td>\n",
       "      <td>3049</td>\n",
       "      <td>iphone</td>\n",
       "      <td>2020-11-11 17:53:51.963718</td>\n",
       "    </tr>\n",
       "  </tbody>\n",
       "</table>\n",
       "<p>346 rows × 4 columns</p>\n",
       "</div>"
      ],
      "text/plain": [
       "                                          product_name product_price  \\\n",
       "0    Samsung Galaxy S10+ Dual SIM 128 GB branco-pri...          3750   \n",
       "1    Samsung Galaxy Note10 Dual SIM 256 GB Aura bla...          2969   \n",
       "2    Samsung Galaxy A31 Dual SIM 128 GB prism crush...          2399   \n",
       "3    Samsung Galaxy A21s Dual SIM 64 GB branco 4 GB...          1999   \n",
       "4    Samsung Galaxy A01 Core Dual SIM 32 GB azul 2 ...           689   \n",
       "..                                                 ...           ...   \n",
       "341                              iPhone 12 64 GB preto          7699   \n",
       "342                              iPhone 7 128 GB prata          1900   \n",
       "343                          iPhone SE 32 GB ouro rosa          1299   \n",
       "344                      iPhone 11 128 GB (Product)Red          5999   \n",
       "345            iPhone SE (2nd Generation) 64 GB branco          3049   \n",
       "\n",
       "    product_search                 search_date  \n",
       "0          celular  2020-11-11 17:53:43.068753  \n",
       "1          celular  2020-11-11 17:53:43.069753  \n",
       "2          celular  2020-11-11 17:53:43.070752  \n",
       "3          celular  2020-11-11 17:53:43.071751  \n",
       "4          celular  2020-11-11 17:53:43.072751  \n",
       "..             ...                         ...  \n",
       "341         iphone  2020-11-11 17:53:51.956721  \n",
       "342         iphone  2020-11-11 17:53:51.957720  \n",
       "343         iphone  2020-11-11 17:53:51.958720  \n",
       "344         iphone  2020-11-11 17:53:51.961719  \n",
       "345         iphone  2020-11-11 17:53:51.963718  \n",
       "\n",
       "[346 rows x 4 columns]"
      ]
     },
     "execution_count": 4,
     "metadata": {},
     "output_type": "execute_result"
    }
   ],
   "source": [
    "# Como a base de dados fica:\n",
    "data.dropna()"
   ]
  },
  {
   "cell_type": "code",
   "execution_count": 5,
   "metadata": {},
   "outputs": [
    {
     "data": {
      "text/plain": [
       "{}"
      ]
     },
     "execution_count": 5,
     "metadata": {},
     "output_type": "execute_result"
    }
   ],
   "source": [
    "# Nenhum erro foi apresentado\n",
    "errors"
   ]
  },
  {
   "cell_type": "markdown",
   "metadata": {},
   "source": [
    "### Curiosidade"
   ]
  },
  {
   "cell_type": "code",
   "execution_count": 6,
   "metadata": {},
   "outputs": [
    {
     "data": {
      "text/plain": [
       "1556.5"
      ]
     },
     "execution_count": 6,
     "metadata": {},
     "output_type": "execute_result"
    }
   ],
   "source": [
    "# Ticket médio da busca por 'celular'\n",
    "data[data['product_search']=='celular']['product_price'].astype('float').mean()"
   ]
  },
  {
   "cell_type": "code",
   "execution_count": 7,
   "metadata": {},
   "outputs": [
    {
     "data": {
      "text/plain": [
       "3637.14"
      ]
     },
     "execution_count": 7,
     "metadata": {},
     "output_type": "execute_result"
    }
   ],
   "source": [
    "# Ticket médio da busca por 'iphone'\n",
    "data[data['product_search']=='iphone']['product_price'].astype('float').mean()"
   ]
  },
  {
   "cell_type": "code",
   "execution_count": null,
   "metadata": {},
   "outputs": [],
   "source": []
  }
 ],
 "metadata": {
  "language_info": {
   "codemirror_mode": {
    "name": "ipython",
    "version": 3
   },
   "file_extension": ".py",
   "mimetype": "text/x-python",
   "name": "python",
   "nbconvert_exporter": "python",
   "pygments_lexer": "ipython3",
   "version": "3.7.1"
  }
 },
 "nbformat": 4,
 "nbformat_minor": 4
}
