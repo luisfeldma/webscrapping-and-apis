{
 "cells": [
  {
   "cell_type": "markdown",
   "metadata": {},
   "source": [
    "## Pegando dados de preços do mercado livre"
   ]
  },
  {
   "cell_type": "code",
   "execution_count": 1,
   "metadata": {},
   "outputs": [],
   "source": [
    "from bs4 import BeautifulSoup\n",
    "import requests\n",
    "import pandas as pd\n",
    "from datetime import datetime\n",
    "import sqlite3"
   ]
  },
  {
   "cell_type": "code",
   "execution_count": 2,
   "metadata": {},
   "outputs": [],
   "source": [
    "# Seleciono plavras chave para procurar no site do mercado livre\n",
    "search_commands = ['celular', 'tv', 'geladeira', 'microondas', 'fogao', 'iphone', 'som', 'luminaria', 'notebook']"
   ]
  },
  {
   "cell_type": "markdown",
   "metadata": {},
   "source": [
    "### Mercado Livre"
   ]
  },
  {
   "cell_type": "code",
   "execution_count": 3,
   "metadata": {},
   "outputs": [
    {
     "name": "stdout",
     "output_type": "stream",
     "text": [
      "Wall time: 16.4 s\n"
     ]
    }
   ],
   "source": [
    "%%time\n",
    "data = pd.DataFrame(columns=['product_name', 'product_price', 'product_search', 'search_date', 'website', 'url'])\n",
    "n=0\n",
    "errors={}\n",
    "for search in search_commands:\n",
    "    \n",
    "    url = 'https://lista.mercadolivre.com.br/{}#D[A:{}]'.format(search, search)\n",
    "    r = requests.get(url)\n",
    "    soup = BeautifulSoup(r.content, 'html.parser') \n",
    "    items = soup.find_all('li', class_='ui-search-layout__item')\n",
    "    \n",
    "    # Salvo os dados de cada item do site em um dataframe\n",
    "    for item in items:\n",
    "        try:\n",
    "            try:\n",
    "                name = item.find('h2', class_=\"ui-search-item__title ui-search-item__group__element\").text\n",
    "            except:\n",
    "                name = item.find('h2', class_=\"ui-search-item__title\").text\n",
    "            price = item.find('span', class_=\"price-tag-fraction\").text.replace('.', '')\n",
    "\n",
    "            data.loc[n, 'product_name'] = name\n",
    "            data.loc[n, 'product_price'] = price\n",
    "            data.loc[n, 'product_search'] = search\n",
    "            data.loc[n, 'search_date'] = datetime.today()\n",
    "            data.loc[n, 'website'] = 'Mercado Livre'\n",
    "            data.loc[n, 'url'] = url\n",
    "            n+=1\n",
    "        except:\n",
    "            errors.update({search:url})\n",
    "            pass"
   ]
  },
  {
   "cell_type": "markdown",
   "metadata": {},
   "source": [
    "### Submarino"
   ]
  },
  {
   "cell_type": "code",
   "execution_count": 4,
   "metadata": {},
   "outputs": [
    {
     "name": "stdout",
     "output_type": "stream",
     "text": [
      "Wall time: 12.7 s\n"
     ]
    }
   ],
   "source": [
    "%%time\n",
    "\n",
    "for search in search_commands:\n",
    "    \n",
    "    url = 'https://www.submarino.com.br/busca/{}'.format(search)\n",
    "    headers = {'User-Agent': 'Mozilla/5.0 (Windows NT 6.1; WOW64; rv:50.0) Gecko/20100101 Firefox/50.0'}\n",
    "    r = requests.get(url, headers=headers)\n",
    "    soup = BeautifulSoup(r.content, 'html.parser') \n",
    "    items = soup.find_all('div', class_='product-grid-item ProductGrid__GridColumn-sc-49j2r8-0 eZaEaE ColUI-gjy0oc-0 ifczFg ViewUI-sc-1ijittn-6 iXIDWU')\n",
    "    \n",
    "    \n",
    "    # Salvo os dados de cada item do site em um dataframe\n",
    "    for item in items:\n",
    "        try:\n",
    "            try:\n",
    "                name = item.find('h2', class_='TitleUI-sc-1f5n3tj-13 dTabgr TitleH2-sc-1wh9e1x-1 fINzxm').text.strip()\n",
    "                price = item.div.div.find('span', class_=\"PriceUI-sc-1f5n3tj-9 ebPdEH PriceUI-sc-1q8ynzz-0 inNBs TextUI-sc-12tokcy-0 CIZtP\").text.strip().replace('R$', '').replace('.', '').replace(',', '.')\n",
    "            except:\n",
    "                price = item.div.div.find('span', class_=\"PriceUI-sc-1f5n3tj-9 RjuaG PriceUI-sc-1q8ynzz-0 inNBs TextUI-sc-12tokcy-0 CIZtP\").text.strip().replace('R$', '').replace('.', '').replace(',', '.')\n",
    "            \n",
    "            data.loc[n, 'product_name'] = name\n",
    "            data.loc[n, 'product_price'] = price\n",
    "            data.loc[n, 'product_search'] = search\n",
    "            data.loc[n, 'search_date'] = datetime.today()\n",
    "            data.loc[n, 'website'] = 'Submarino'\n",
    "            data.loc[n, 'url'] = url\n",
    "            n+=1\n",
    "        except:\n",
    "            errors.update({search:url})\n",
    "            pass"
   ]
  },
  {
   "cell_type": "markdown",
   "metadata": {},
   "source": [
    "### Magazine Luiza"
   ]
  },
  {
   "cell_type": "code",
   "execution_count": 5,
   "metadata": {},
   "outputs": [
    {
     "name": "stdout",
     "output_type": "stream",
     "text": [
      "Wall time: 15.7 s\n"
     ]
    }
   ],
   "source": [
    "%%time\n",
    "\n",
    "for search in search_commands:\n",
    "    \n",
    "    url = 'https://www.magazineluiza.com.br/busca/{}/'.format(search)\n",
    "    headers = {'User-Agent': 'Mozilla/5.0 (Windows NT 6.1; WOW64; rv:50.0) Gecko/20100101 Firefox/50.0'}\n",
    "    r = requests.get(url, headers=headers)\n",
    "    soup = BeautifulSoup(r.content, 'html.parser') \n",
    "    items = soup.find_all('li', class_='product')\n",
    "    \n",
    "    \n",
    "    # Salvo os dados de cada item do site em um dataframe\n",
    "    for item in items:\n",
    "        try:\n",
    "          \n",
    "            name = item.h3.text.strip()\n",
    "            price = item.find('span', class_='price-value').text.replace('R$', '').replace('.','').strip().replace(',','.')\n",
    "                \n",
    "            \n",
    "            data.loc[n, 'product_name'] = name\n",
    "            data.loc[n, 'product_price'] = price\n",
    "            data.loc[n, 'product_search'] = search\n",
    "            data.loc[n, 'search_date'] = datetime.today()\n",
    "            data.loc[n, 'website'] = 'Magazine Luiza'\n",
    "            data.loc[n, 'url'] = url\n",
    "            n+=1\n",
    "        except:\n",
    "            errors.update({search:[name, price]})\n",
    "            pass"
   ]
  },
  {
   "cell_type": "code",
   "execution_count": 6,
   "metadata": {},
   "outputs": [
    {
     "data": {
      "text/html": [
       "<div>\n",
       "<style scoped>\n",
       "    .dataframe tbody tr th:only-of-type {\n",
       "        vertical-align: middle;\n",
       "    }\n",
       "\n",
       "    .dataframe tbody tr th {\n",
       "        vertical-align: top;\n",
       "    }\n",
       "\n",
       "    .dataframe thead th {\n",
       "        text-align: right;\n",
       "    }\n",
       "</style>\n",
       "<table border=\"1\" class=\"dataframe\">\n",
       "  <thead>\n",
       "    <tr style=\"text-align: right;\">\n",
       "      <th></th>\n",
       "      <th>product_name</th>\n",
       "      <th>product_price</th>\n",
       "      <th>product_search</th>\n",
       "      <th>search_date</th>\n",
       "      <th>website</th>\n",
       "      <th>url</th>\n",
       "    </tr>\n",
       "  </thead>\n",
       "  <tbody>\n",
       "    <tr>\n",
       "      <th>0</th>\n",
       "      <td>Moto E6s (2020) Dual SIM 64 GB azul-navy 4 GB RAM</td>\n",
       "      <td>1299</td>\n",
       "      <td>celular</td>\n",
       "      <td>2020-11-18 12:28:51.924693</td>\n",
       "      <td>Mercado Livre</td>\n",
       "      <td>https://lista.mercadolivre.com.br/celular#D[A:...</td>\n",
       "    </tr>\n",
       "    <tr>\n",
       "      <th>1</th>\n",
       "      <td>Samsung Galaxy A31 Dual SIM 128 GB prism crush...</td>\n",
       "      <td>1849</td>\n",
       "      <td>celular</td>\n",
       "      <td>2020-11-18 12:28:51.925692</td>\n",
       "      <td>Mercado Livre</td>\n",
       "      <td>https://lista.mercadolivre.com.br/celular#D[A:...</td>\n",
       "    </tr>\n",
       "    <tr>\n",
       "      <th>2</th>\n",
       "      <td>Samsung Galaxy A01 Core Dual SIM 32 GB azul 2 ...</td>\n",
       "      <td>1099</td>\n",
       "      <td>celular</td>\n",
       "      <td>2020-11-18 12:28:51.927691</td>\n",
       "      <td>Mercado Livre</td>\n",
       "      <td>https://lista.mercadolivre.com.br/celular#D[A:...</td>\n",
       "    </tr>\n",
       "    <tr>\n",
       "      <th>3</th>\n",
       "      <td>Samsung Galaxy A21s Dual SIM 64 GB preto 4 GB RAM</td>\n",
       "      <td>1599</td>\n",
       "      <td>celular</td>\n",
       "      <td>2020-11-18 12:28:51.929690</td>\n",
       "      <td>Mercado Livre</td>\n",
       "      <td>https://lista.mercadolivre.com.br/celular#D[A:...</td>\n",
       "    </tr>\n",
       "    <tr>\n",
       "      <th>4</th>\n",
       "      <td>Samsung Galaxy A31 Dual SIM 128 GB prism crush...</td>\n",
       "      <td>1849</td>\n",
       "      <td>celular</td>\n",
       "      <td>2020-11-18 12:28:51.930689</td>\n",
       "      <td>Mercado Livre</td>\n",
       "      <td>https://lista.mercadolivre.com.br/celular#D[A:...</td>\n",
       "    </tr>\n",
       "    <tr>\n",
       "      <th>...</th>\n",
       "      <td>...</td>\n",
       "      <td>...</td>\n",
       "      <td>...</td>\n",
       "      <td>...</td>\n",
       "      <td>...</td>\n",
       "      <td>...</td>\n",
       "    </tr>\n",
       "    <tr>\n",
       "      <th>951</th>\n",
       "      <td>Notebook Gamer Samsung Odyssey Intel Core i5 -...</td>\n",
       "      <td>5699.05</td>\n",
       "      <td>notebook</td>\n",
       "      <td>2020-11-18 12:29:33.986287</td>\n",
       "      <td>Magazine Luiza</td>\n",
       "      <td>https://www.magazineluiza.com.br/busca/notebook/</td>\n",
       "    </tr>\n",
       "    <tr>\n",
       "      <th>952</th>\n",
       "      <td>Notebook Lenovo Ideapad S145 Intel Core i7 8GB...</td>\n",
       "      <td>4369.05</td>\n",
       "      <td>notebook</td>\n",
       "      <td>2020-11-18 12:29:33.987286</td>\n",
       "      <td>Magazine Luiza</td>\n",
       "      <td>https://www.magazineluiza.com.br/busca/notebook/</td>\n",
       "    </tr>\n",
       "    <tr>\n",
       "      <th>953</th>\n",
       "      <td>Notebook Intel 2GB 32GB Multilaser Legacy Clou...</td>\n",
       "      <td>1139.05</td>\n",
       "      <td>notebook</td>\n",
       "      <td>2020-11-18 12:29:33.989285</td>\n",
       "      <td>Magazine Luiza</td>\n",
       "      <td>https://www.magazineluiza.com.br/busca/notebook/</td>\n",
       "    </tr>\n",
       "    <tr>\n",
       "      <th>954</th>\n",
       "      <td>Notebook Dell Inspiron i15-3584-U30P 8ª geraçã...</td>\n",
       "      <td>2896.55</td>\n",
       "      <td>notebook</td>\n",
       "      <td>2020-11-18 12:29:33.991284</td>\n",
       "      <td>Magazine Luiza</td>\n",
       "      <td>https://www.magazineluiza.com.br/busca/notebook/</td>\n",
       "    </tr>\n",
       "    <tr>\n",
       "      <th>955</th>\n",
       "      <td>Notebook Samsung Book E30 Intel Core i3 4GB 1T...</td>\n",
       "      <td>2944.05</td>\n",
       "      <td>notebook</td>\n",
       "      <td>2020-11-18 12:29:33.993283</td>\n",
       "      <td>Magazine Luiza</td>\n",
       "      <td>https://www.magazineluiza.com.br/busca/notebook/</td>\n",
       "    </tr>\n",
       "  </tbody>\n",
       "</table>\n",
       "<p>956 rows × 6 columns</p>\n",
       "</div>"
      ],
      "text/plain": [
       "                                          product_name product_price  \\\n",
       "0    Moto E6s (2020) Dual SIM 64 GB azul-navy 4 GB RAM          1299   \n",
       "1    Samsung Galaxy A31 Dual SIM 128 GB prism crush...          1849   \n",
       "2    Samsung Galaxy A01 Core Dual SIM 32 GB azul 2 ...          1099   \n",
       "3    Samsung Galaxy A21s Dual SIM 64 GB preto 4 GB RAM          1599   \n",
       "4    Samsung Galaxy A31 Dual SIM 128 GB prism crush...          1849   \n",
       "..                                                 ...           ...   \n",
       "951  Notebook Gamer Samsung Odyssey Intel Core i5 -...       5699.05   \n",
       "952  Notebook Lenovo Ideapad S145 Intel Core i7 8GB...       4369.05   \n",
       "953  Notebook Intel 2GB 32GB Multilaser Legacy Clou...       1139.05   \n",
       "954  Notebook Dell Inspiron i15-3584-U30P 8ª geraçã...       2896.55   \n",
       "955  Notebook Samsung Book E30 Intel Core i3 4GB 1T...       2944.05   \n",
       "\n",
       "    product_search                 search_date         website  \\\n",
       "0          celular  2020-11-18 12:28:51.924693   Mercado Livre   \n",
       "1          celular  2020-11-18 12:28:51.925692   Mercado Livre   \n",
       "2          celular  2020-11-18 12:28:51.927691   Mercado Livre   \n",
       "3          celular  2020-11-18 12:28:51.929690   Mercado Livre   \n",
       "4          celular  2020-11-18 12:28:51.930689   Mercado Livre   \n",
       "..             ...                         ...             ...   \n",
       "951       notebook  2020-11-18 12:29:33.986287  Magazine Luiza   \n",
       "952       notebook  2020-11-18 12:29:33.987286  Magazine Luiza   \n",
       "953       notebook  2020-11-18 12:29:33.989285  Magazine Luiza   \n",
       "954       notebook  2020-11-18 12:29:33.991284  Magazine Luiza   \n",
       "955       notebook  2020-11-18 12:29:33.993283  Magazine Luiza   \n",
       "\n",
       "                                                   url  \n",
       "0    https://lista.mercadolivre.com.br/celular#D[A:...  \n",
       "1    https://lista.mercadolivre.com.br/celular#D[A:...  \n",
       "2    https://lista.mercadolivre.com.br/celular#D[A:...  \n",
       "3    https://lista.mercadolivre.com.br/celular#D[A:...  \n",
       "4    https://lista.mercadolivre.com.br/celular#D[A:...  \n",
       "..                                                 ...  \n",
       "951   https://www.magazineluiza.com.br/busca/notebook/  \n",
       "952   https://www.magazineluiza.com.br/busca/notebook/  \n",
       "953   https://www.magazineluiza.com.br/busca/notebook/  \n",
       "954   https://www.magazineluiza.com.br/busca/notebook/  \n",
       "955   https://www.magazineluiza.com.br/busca/notebook/  \n",
       "\n",
       "[956 rows x 6 columns]"
      ]
     },
     "execution_count": 6,
     "metadata": {},
     "output_type": "execute_result"
    }
   ],
   "source": [
    "# Como a base de dados fica:\n",
    "data"
   ]
  },
  {
   "cell_type": "code",
   "execution_count": 7,
   "metadata": {},
   "outputs": [
    {
     "data": {
      "text/plain": [
       "{'fogao': ['Fogão 5 Bocas Mesa de Inox Forno Easy Clean Acendimento Manual Trempe Esmaltado - Braslar',\n",
       "  '1003.47'],\n",
       " 'som': ['Radio Som Mp3 Player Automotivo Carro Bluetooth First Option USB com Controle - Manfer Com. E Importacao Ltda',\n",
       "  '218.41'],\n",
       " 'celular': ['iPhone 11 Apple 128GB Preto 6,1” 12MP iOS - MHDH3BZ/A',\n",
       "  '929.07'],\n",
       " 'tv': ['Smart TV Full HD LED 43” AOC 43S5195/78G - Wi-Fi 3 HDMI 1 USB',\n",
       "  '3324.05'],\n",
       " 'geladeira': ['Geladeira Brastemp Frost Free Inverse 573 litros cor Inox com Smart Bar -',\n",
       "  '4139.91'],\n",
       " 'microondas': ['Micro-ondas Philco PMO25B 25 Litros Branco  220 Volts -',\n",
       "  '486.00'],\n",
       " 'iphone': ['iPhone 8 Plus Apple 64GB Dourado 5,5” 12MP - iOS', '5579.07'],\n",
       " 'luminaria': ['Luminária de Mesa LED  - Azul Taschibra TLM 03', '141.55'],\n",
       " 'notebook': ['Notebook Dell Inspiron 15 3000 i15-3583-D05P - Intel Pentium Gold 4GB 500GB 15,6” Linux',\n",
       "  '2944.05']}"
      ]
     },
     "execution_count": 7,
     "metadata": {},
     "output_type": "execute_result"
    }
   ],
   "source": [
    "# Nenhum erro foi apresentado\n",
    "errors"
   ]
  },
  {
   "cell_type": "markdown",
   "metadata": {},
   "source": [
    "### Curiosidade"
   ]
  },
  {
   "cell_type": "code",
   "execution_count": 8,
   "metadata": {},
   "outputs": [
    {
     "data": {
      "text/plain": [
       "1490.7963106796121"
      ]
     },
     "execution_count": 8,
     "metadata": {},
     "output_type": "execute_result"
    }
   ],
   "source": [
    "# Ticket médio da busca por 'celular'\n",
    "data[data['product_search']=='celular']['product_price'].astype('float').mean()"
   ]
  },
  {
   "cell_type": "code",
   "execution_count": 9,
   "metadata": {},
   "outputs": [
    {
     "data": {
      "text/plain": [
       "5593.92112244898"
      ]
     },
     "execution_count": 9,
     "metadata": {},
     "output_type": "execute_result"
    }
   ],
   "source": [
    "# Ticket médio da busca por 'iphone'\n",
    "data[data['product_search']=='iphone']['product_price'].astype('float').mean()"
   ]
  },
  {
   "cell_type": "code",
   "execution_count": 10,
   "metadata": {},
   "outputs": [
    {
     "data": {
      "text/html": [
       "<div>\n",
       "<style scoped>\n",
       "    .dataframe tbody tr th:only-of-type {\n",
       "        vertical-align: middle;\n",
       "    }\n",
       "\n",
       "    .dataframe tbody tr th {\n",
       "        vertical-align: top;\n",
       "    }\n",
       "\n",
       "    .dataframe thead th {\n",
       "        text-align: right;\n",
       "    }\n",
       "</style>\n",
       "<table border=\"1\" class=\"dataframe\">\n",
       "  <thead>\n",
       "    <tr style=\"text-align: right;\">\n",
       "      <th></th>\n",
       "      <th>product_name</th>\n",
       "      <th>product_price</th>\n",
       "      <th>product_search</th>\n",
       "      <th>search_date</th>\n",
       "      <th>website</th>\n",
       "      <th>url</th>\n",
       "    </tr>\n",
       "  </thead>\n",
       "  <tbody>\n",
       "    <tr>\n",
       "      <th>688</th>\n",
       "      <td>Smartphone Samsung Galaxy A01 32GB Vermelho - ...</td>\n",
       "      <td>728.99</td>\n",
       "      <td>celular</td>\n",
       "      <td>2020-11-18 12:29:19.359654</td>\n",
       "      <td>Magazine Luiza</td>\n",
       "      <td>https://www.magazineluiza.com.br/busca/celular/</td>\n",
       "    </tr>\n",
       "    <tr>\n",
       "      <th>689</th>\n",
       "      <td>Smartphone Samsung Galaxy A71 128GB Cinza 4G -...</td>\n",
       "      <td>1979.10</td>\n",
       "      <td>celular</td>\n",
       "      <td>2020-11-18 12:29:19.361475</td>\n",
       "      <td>Magazine Luiza</td>\n",
       "      <td>https://www.magazineluiza.com.br/busca/celular/</td>\n",
       "    </tr>\n",
       "    <tr>\n",
       "      <th>690</th>\n",
       "      <td>Smartphone Samsung Galaxy A21s 64GB Preto 4G -...</td>\n",
       "      <td>1394.07</td>\n",
       "      <td>celular</td>\n",
       "      <td>2020-11-18 12:29:19.363491</td>\n",
       "      <td>Magazine Luiza</td>\n",
       "      <td>https://www.magazineluiza.com.br/busca/celular/</td>\n",
       "    </tr>\n",
       "    <tr>\n",
       "      <th>691</th>\n",
       "      <td>Smartphone Motorola Moto G9 Play 64GB Azul Saf...</td>\n",
       "      <td>1250.99</td>\n",
       "      <td>celular</td>\n",
       "      <td>2020-11-18 12:29:19.364491</td>\n",
       "      <td>Magazine Luiza</td>\n",
       "      <td>https://www.magazineluiza.com.br/busca/celular/</td>\n",
       "    </tr>\n",
       "    <tr>\n",
       "      <th>692</th>\n",
       "      <td>Smartphone Samsung Galaxy A01 Core 32GB Azul -...</td>\n",
       "      <td>836.07</td>\n",
       "      <td>celular</td>\n",
       "      <td>2020-11-18 12:29:19.366489</td>\n",
       "      <td>Magazine Luiza</td>\n",
       "      <td>https://www.magazineluiza.com.br/busca/celular/</td>\n",
       "    </tr>\n",
       "    <tr>\n",
       "      <th>...</th>\n",
       "      <td>...</td>\n",
       "      <td>...</td>\n",
       "      <td>...</td>\n",
       "      <td>...</td>\n",
       "      <td>...</td>\n",
       "      <td>...</td>\n",
       "    </tr>\n",
       "    <tr>\n",
       "      <th>951</th>\n",
       "      <td>Notebook Gamer Samsung Odyssey Intel Core i5 -...</td>\n",
       "      <td>5699.05</td>\n",
       "      <td>notebook</td>\n",
       "      <td>2020-11-18 12:29:33.986287</td>\n",
       "      <td>Magazine Luiza</td>\n",
       "      <td>https://www.magazineluiza.com.br/busca/notebook/</td>\n",
       "    </tr>\n",
       "    <tr>\n",
       "      <th>952</th>\n",
       "      <td>Notebook Lenovo Ideapad S145 Intel Core i7 8GB...</td>\n",
       "      <td>4369.05</td>\n",
       "      <td>notebook</td>\n",
       "      <td>2020-11-18 12:29:33.987286</td>\n",
       "      <td>Magazine Luiza</td>\n",
       "      <td>https://www.magazineluiza.com.br/busca/notebook/</td>\n",
       "    </tr>\n",
       "    <tr>\n",
       "      <th>953</th>\n",
       "      <td>Notebook Intel 2GB 32GB Multilaser Legacy Clou...</td>\n",
       "      <td>1139.05</td>\n",
       "      <td>notebook</td>\n",
       "      <td>2020-11-18 12:29:33.989285</td>\n",
       "      <td>Magazine Luiza</td>\n",
       "      <td>https://www.magazineluiza.com.br/busca/notebook/</td>\n",
       "    </tr>\n",
       "    <tr>\n",
       "      <th>954</th>\n",
       "      <td>Notebook Dell Inspiron i15-3584-U30P 8ª geraçã...</td>\n",
       "      <td>2896.55</td>\n",
       "      <td>notebook</td>\n",
       "      <td>2020-11-18 12:29:33.991284</td>\n",
       "      <td>Magazine Luiza</td>\n",
       "      <td>https://www.magazineluiza.com.br/busca/notebook/</td>\n",
       "    </tr>\n",
       "    <tr>\n",
       "      <th>955</th>\n",
       "      <td>Notebook Samsung Book E30 Intel Core i3 4GB 1T...</td>\n",
       "      <td>2944.05</td>\n",
       "      <td>notebook</td>\n",
       "      <td>2020-11-18 12:29:33.993283</td>\n",
       "      <td>Magazine Luiza</td>\n",
       "      <td>https://www.magazineluiza.com.br/busca/notebook/</td>\n",
       "    </tr>\n",
       "  </tbody>\n",
       "</table>\n",
       "<p>268 rows × 6 columns</p>\n",
       "</div>"
      ],
      "text/plain": [
       "                                          product_name product_price  \\\n",
       "688  Smartphone Samsung Galaxy A01 32GB Vermelho - ...        728.99   \n",
       "689  Smartphone Samsung Galaxy A71 128GB Cinza 4G -...       1979.10   \n",
       "690  Smartphone Samsung Galaxy A21s 64GB Preto 4G -...       1394.07   \n",
       "691  Smartphone Motorola Moto G9 Play 64GB Azul Saf...       1250.99   \n",
       "692  Smartphone Samsung Galaxy A01 Core 32GB Azul -...        836.07   \n",
       "..                                                 ...           ...   \n",
       "951  Notebook Gamer Samsung Odyssey Intel Core i5 -...       5699.05   \n",
       "952  Notebook Lenovo Ideapad S145 Intel Core i7 8GB...       4369.05   \n",
       "953  Notebook Intel 2GB 32GB Multilaser Legacy Clou...       1139.05   \n",
       "954  Notebook Dell Inspiron i15-3584-U30P 8ª geraçã...       2896.55   \n",
       "955  Notebook Samsung Book E30 Intel Core i3 4GB 1T...       2944.05   \n",
       "\n",
       "    product_search                 search_date         website  \\\n",
       "688        celular  2020-11-18 12:29:19.359654  Magazine Luiza   \n",
       "689        celular  2020-11-18 12:29:19.361475  Magazine Luiza   \n",
       "690        celular  2020-11-18 12:29:19.363491  Magazine Luiza   \n",
       "691        celular  2020-11-18 12:29:19.364491  Magazine Luiza   \n",
       "692        celular  2020-11-18 12:29:19.366489  Magazine Luiza   \n",
       "..             ...                         ...             ...   \n",
       "951       notebook  2020-11-18 12:29:33.986287  Magazine Luiza   \n",
       "952       notebook  2020-11-18 12:29:33.987286  Magazine Luiza   \n",
       "953       notebook  2020-11-18 12:29:33.989285  Magazine Luiza   \n",
       "954       notebook  2020-11-18 12:29:33.991284  Magazine Luiza   \n",
       "955       notebook  2020-11-18 12:29:33.993283  Magazine Luiza   \n",
       "\n",
       "                                                  url  \n",
       "688   https://www.magazineluiza.com.br/busca/celular/  \n",
       "689   https://www.magazineluiza.com.br/busca/celular/  \n",
       "690   https://www.magazineluiza.com.br/busca/celular/  \n",
       "691   https://www.magazineluiza.com.br/busca/celular/  \n",
       "692   https://www.magazineluiza.com.br/busca/celular/  \n",
       "..                                                ...  \n",
       "951  https://www.magazineluiza.com.br/busca/notebook/  \n",
       "952  https://www.magazineluiza.com.br/busca/notebook/  \n",
       "953  https://www.magazineluiza.com.br/busca/notebook/  \n",
       "954  https://www.magazineluiza.com.br/busca/notebook/  \n",
       "955  https://www.magazineluiza.com.br/busca/notebook/  \n",
       "\n",
       "[268 rows x 6 columns]"
      ]
     },
     "execution_count": 10,
     "metadata": {},
     "output_type": "execute_result"
    }
   ],
   "source": [
    "data[(data['website']=='Magazine Luiza')]"
   ]
  },
  {
   "cell_type": "code",
   "execution_count": null,
   "metadata": {},
   "outputs": [],
   "source": []
  }
 ],
 "metadata": {
  "kernelspec": {
   "display_name": "Python 3",
   "language": "python",
   "name": "python3"
  },
  "language_info": {
   "codemirror_mode": {
    "name": "ipython",
    "version": 3
   },
   "file_extension": ".py",
   "mimetype": "text/x-python",
   "name": "python",
   "nbconvert_exporter": "python",
   "pygments_lexer": "ipython3",
   "version": "3.7.1"
  }
 },
 "nbformat": 4,
 "nbformat_minor": 4
}
