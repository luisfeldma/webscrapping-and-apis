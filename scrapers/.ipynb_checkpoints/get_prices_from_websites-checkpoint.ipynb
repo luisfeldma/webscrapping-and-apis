{
 "cells": [
  {
   "cell_type": "markdown",
   "metadata": {},
   "source": [
    "## Pegando dados de preços dos sites: Mercado Livre, Submarino e Magalu"
   ]
  },
  {
   "cell_type": "code",
   "execution_count": 1,
   "metadata": {},
   "outputs": [],
   "source": [
    "from bs4 import BeautifulSoup\n",
    "import requests\n",
    "import pandas as pd\n",
    "from datetime import datetime"
   ]
  },
  {
   "cell_type": "code",
   "execution_count": 2,
   "metadata": {},
   "outputs": [],
   "source": [
    "# Seleciono plavras chave para procurar no site do mercado livre\n",
    "search_commands = ['celular', 'tv', 'geladeira', 'microondas', 'fogao', 'iphone', 'som', 'luminaria', 'notebook', 'smartwatch']"
   ]
  },
  {
   "cell_type": "markdown",
   "metadata": {},
   "source": [
    "### Mercado Livre"
   ]
  },
  {
   "cell_type": "markdown",
   "metadata": {},
   "source": [
    "Criarei um dataframe que irá conter todas as informações dos produtos procurados no \"search_commands\""
   ]
  },
  {
   "cell_type": "code",
   "execution_count": 3,
   "metadata": {},
   "outputs": [
    {
     "name": "stdout",
     "output_type": "stream",
     "text": [
      "Wall time: 17 s\n"
     ]
    }
   ],
   "source": [
    "%%time\n",
    "data = pd.DataFrame(columns=['product_name', 'product_price', 'product_search', 'search_date', 'website', 'url'])\n",
    "n=0\n",
    "errors={}\n",
    "for search in search_commands:\n",
    "    \n",
    "    url = 'https://lista.mercadolivre.com.br/{}#D[A:{}]'.format(search, search)\n",
    "    r = requests.get(url)\n",
    "    soup = BeautifulSoup(r.content, 'html.parser') \n",
    "    items = soup.find_all('li', class_='ui-search-layout__item')\n",
    "    \n",
    "    # Salvo os dados de cada item do site em um dataframe\n",
    "    for item in items:\n",
    "        try:\n",
    "            try:\n",
    "                name = item.find('h2', class_=\"ui-search-item__title ui-search-item__group__element\").text\n",
    "            except:\n",
    "                name = item.find('h2', class_=\"ui-search-item__title\").text\n",
    "            price = item.find('span', class_=\"price-tag-fraction\").text.replace('.', '')\n",
    "\n",
    "            data.loc[n, 'product_name'] = name\n",
    "            data.loc[n, 'product_price'] = price\n",
    "            data.loc[n, 'product_search'] = search\n",
    "            data.loc[n, 'search_date'] = datetime.today()\n",
    "            data.loc[n, 'website'] = 'Mercado Livre'\n",
    "            data.loc[n, 'url'] = url\n",
    "            n+=1\n",
    "        except:\n",
    "            errors.update({search:url})\n",
    "            pass"
   ]
  },
  {
   "cell_type": "markdown",
   "metadata": {},
   "source": [
    "### Submarino"
   ]
  },
  {
   "cell_type": "code",
   "execution_count": 4,
   "metadata": {},
   "outputs": [
    {
     "name": "stdout",
     "output_type": "stream",
     "text": [
      "Wall time: 21.5 s\n"
     ]
    }
   ],
   "source": [
    "%%time\n",
    "\n",
    "for search in search_commands:\n",
    "    \n",
    "    url = 'https://www.submarino.com.br/busca/{}'.format(search)\n",
    "    headers = {'User-Agent': 'Mozilla/5.0 (Windows NT 6.1; WOW64; rv:50.0) Gecko/20100101 Firefox/50.0'}\n",
    "    r = requests.get(url, headers=headers)\n",
    "    soup = BeautifulSoup(r.content, 'html.parser') \n",
    "    items = soup.find_all('div', class_='product-grid-item ProductGrid__GridColumn-sc-49j2r8-0 eZaEaE ColUI-gjy0oc-0 ifczFg ViewUI-sc-1ijittn-6 iXIDWU')\n",
    "    \n",
    "    \n",
    "    # Salvo os dados de cada item do site em um dataframe\n",
    "    for item in items:\n",
    "        try:\n",
    "            try:\n",
    "                name = item.find('h2', class_='TitleUI-sc-1f5n3tj-13 dTabgr TitleH2-sc-1wh9e1x-1 fINzxm').text.strip()\n",
    "                price = item.div.div.find('span', class_=\"PriceUI-sc-1f5n3tj-9 ebPdEH PriceUI-sc-1q8ynzz-0 inNBs TextUI-sc-12tokcy-0 CIZtP\").text.strip().replace('R$', '').replace('.', '').replace(',', '.')\n",
    "            except:\n",
    "                price = item.div.div.find('span', class_=\"PriceUI-sc-1f5n3tj-9 RjuaG PriceUI-sc-1q8ynzz-0 inNBs TextUI-sc-12tokcy-0 CIZtP\").text.strip().replace('R$', '').replace('.', '').replace(',', '.')\n",
    "            \n",
    "            data.loc[n, 'product_name'] = name\n",
    "            data.loc[n, 'product_price'] = price\n",
    "            data.loc[n, 'product_search'] = search\n",
    "            data.loc[n, 'search_date'] = datetime.today()\n",
    "            data.loc[n, 'website'] = 'Submarino'\n",
    "            data.loc[n, 'url'] = url\n",
    "            n+=1\n",
    "        except:\n",
    "            errors.update({search:url})\n",
    "            pass"
   ]
  },
  {
   "cell_type": "markdown",
   "metadata": {},
   "source": [
    "### Magazine Luiza"
   ]
  },
  {
   "cell_type": "code",
   "execution_count": 5,
   "metadata": {},
   "outputs": [
    {
     "name": "stdout",
     "output_type": "stream",
     "text": [
      "Wall time: 17 s\n"
     ]
    }
   ],
   "source": [
    "%%time\n",
    "\n",
    "for search in search_commands:\n",
    "    \n",
    "    url = 'https://www.magazineluiza.com.br/busca/{}/'.format(search)\n",
    "    headers = {'User-Agent': 'Mozilla/5.0 (Windows NT 6.1; WOW64; rv:50.0) Gecko/20100101 Firefox/50.0'}\n",
    "    r = requests.get(url, headers=headers)\n",
    "    soup = BeautifulSoup(r.content, 'html.parser') \n",
    "    items = soup.find_all('li', class_='product')\n",
    "    \n",
    "    \n",
    "    # Salvo os dados de cada item do site em um dataframe\n",
    "    for item in items:\n",
    "        try:\n",
    "          \n",
    "            name = item.h3.text.strip()\n",
    "            price = item.find('span', class_='price-value').text.replace('R$', '').replace('.','').strip().replace(',','.')\n",
    "            \n",
    "            data.loc[n, 'product_name'] = name\n",
    "            data.loc[n, 'product_price'] = price\n",
    "            data.loc[n, 'product_search'] = search\n",
    "            data.loc[n, 'search_date'] = datetime.today()\n",
    "            data.loc[n, 'website'] = 'Magazine Luiza'\n",
    "            data.loc[n, 'url'] = url\n",
    "            n+=1\n",
    "        except:\n",
    "            errors.update({search:[name, price]})\n",
    "            pass"
   ]
  },
  {
   "cell_type": "code",
   "execution_count": 6,
   "metadata": {},
   "outputs": [
    {
     "data": {
      "text/html": [
       "<div>\n",
       "<style scoped>\n",
       "    .dataframe tbody tr th:only-of-type {\n",
       "        vertical-align: middle;\n",
       "    }\n",
       "\n",
       "    .dataframe tbody tr th {\n",
       "        vertical-align: top;\n",
       "    }\n",
       "\n",
       "    .dataframe thead th {\n",
       "        text-align: right;\n",
       "    }\n",
       "</style>\n",
       "<table border=\"1\" class=\"dataframe\">\n",
       "  <thead>\n",
       "    <tr style=\"text-align: right;\">\n",
       "      <th></th>\n",
       "      <th>product_name</th>\n",
       "      <th>product_price</th>\n",
       "      <th>product_search</th>\n",
       "      <th>search_date</th>\n",
       "      <th>website</th>\n",
       "      <th>url</th>\n",
       "    </tr>\n",
       "  </thead>\n",
       "  <tbody>\n",
       "    <tr>\n",
       "      <th>0</th>\n",
       "      <td>Samsung Galaxy A01 Core Dual SIM 32 GB azul 2 ...</td>\n",
       "      <td>689</td>\n",
       "      <td>celular</td>\n",
       "      <td>2020-12-11 10:32:59.461051</td>\n",
       "      <td>Mercado Livre</td>\n",
       "      <td>https://lista.mercadolivre.com.br/celular#D[A:...</td>\n",
       "    </tr>\n",
       "    <tr>\n",
       "      <th>1</th>\n",
       "      <td>LG K22 Dual SIM 32 GB red 2 GB RAM</td>\n",
       "      <td>789</td>\n",
       "      <td>celular</td>\n",
       "      <td>2020-12-11 10:32:59.463049</td>\n",
       "      <td>Mercado Livre</td>\n",
       "      <td>https://lista.mercadolivre.com.br/celular#D[A:...</td>\n",
       "    </tr>\n",
       "    <tr>\n",
       "      <th>2</th>\n",
       "      <td>LG K22 Dual SIM 32 GB blue 2 GB RAM</td>\n",
       "      <td>949</td>\n",
       "      <td>celular</td>\n",
       "      <td>2020-12-11 10:32:59.465047</td>\n",
       "      <td>Mercado Livre</td>\n",
       "      <td>https://lista.mercadolivre.com.br/celular#D[A:...</td>\n",
       "    </tr>\n",
       "    <tr>\n",
       "      <th>3</th>\n",
       "      <td>Samsung Galaxy A01 Core Dual SIM 32 GB preto 2...</td>\n",
       "      <td>689</td>\n",
       "      <td>celular</td>\n",
       "      <td>2020-12-11 10:32:59.467047</td>\n",
       "      <td>Mercado Livre</td>\n",
       "      <td>https://lista.mercadolivre.com.br/celular#D[A:...</td>\n",
       "    </tr>\n",
       "    <tr>\n",
       "      <th>4</th>\n",
       "      <td>LG K41S Dual SIM 32 GB titânio 3 GB RAM</td>\n",
       "      <td>1168</td>\n",
       "      <td>celular</td>\n",
       "      <td>2020-12-11 10:32:59.468046</td>\n",
       "      <td>Mercado Livre</td>\n",
       "      <td>https://lista.mercadolivre.com.br/celular#D[A:...</td>\n",
       "    </tr>\n",
       "    <tr>\n",
       "      <th>...</th>\n",
       "      <td>...</td>\n",
       "      <td>...</td>\n",
       "      <td>...</td>\n",
       "      <td>...</td>\n",
       "      <td>...</td>\n",
       "      <td>...</td>\n",
       "    </tr>\n",
       "    <tr>\n",
       "      <th>982</th>\n",
       "      <td>Notebook Asus ZenBook 14 UX431FA-AN203T - Inte...</td>\n",
       "      <td>5224.05</td>\n",
       "      <td>notebook</td>\n",
       "      <td>2020-12-11 10:33:51.100937</td>\n",
       "      <td>Magazine Luiza</td>\n",
       "      <td>https://www.magazineluiza.com.br/busca/notebook/</td>\n",
       "    </tr>\n",
       "    <tr>\n",
       "      <th>983</th>\n",
       "      <td>Notebook Asus ZenBook 14 UX434FAC-A6339T - Int...</td>\n",
       "      <td>5699.05</td>\n",
       "      <td>notebook</td>\n",
       "      <td>2020-12-11 10:33:51.102937</td>\n",
       "      <td>Magazine Luiza</td>\n",
       "      <td>https://www.magazineluiza.com.br/busca/notebook/</td>\n",
       "    </tr>\n",
       "    <tr>\n",
       "      <th>984</th>\n",
       "      <td>Notebook Gamer Acer Predator Helios 300 - PH31...</td>\n",
       "      <td>7789.05</td>\n",
       "      <td>notebook</td>\n",
       "      <td>2020-12-11 10:33:51.104936</td>\n",
       "      <td>Magazine Luiza</td>\n",
       "      <td>https://www.magazineluiza.com.br/busca/notebook/</td>\n",
       "    </tr>\n",
       "    <tr>\n",
       "      <th>985</th>\n",
       "      <td>Notebook Vaio FE14 VJFE41F11X-B0911H Intel Cor...</td>\n",
       "      <td>3039.05</td>\n",
       "      <td>notebook</td>\n",
       "      <td>2020-12-11 10:33:51.106935</td>\n",
       "      <td>Magazine Luiza</td>\n",
       "      <td>https://www.magazineluiza.com.br/busca/notebook/</td>\n",
       "    </tr>\n",
       "    <tr>\n",
       "      <th>986</th>\n",
       "      <td>Notebook 2 em 1 Dell Inspiron i14-5481-M11 8ª ...</td>\n",
       "      <td>3239.10</td>\n",
       "      <td>notebook</td>\n",
       "      <td>2020-12-11 10:33:51.108934</td>\n",
       "      <td>Magazine Luiza</td>\n",
       "      <td>https://www.magazineluiza.com.br/busca/notebook/</td>\n",
       "    </tr>\n",
       "  </tbody>\n",
       "</table>\n",
       "<p>987 rows × 6 columns</p>\n",
       "</div>"
      ],
      "text/plain": [
       "                                          product_name product_price  \\\n",
       "0    Samsung Galaxy A01 Core Dual SIM 32 GB azul 2 ...           689   \n",
       "1                   LG K22 Dual SIM 32 GB red 2 GB RAM           789   \n",
       "2                  LG K22 Dual SIM 32 GB blue 2 GB RAM           949   \n",
       "3    Samsung Galaxy A01 Core Dual SIM 32 GB preto 2...           689   \n",
       "4              LG K41S Dual SIM 32 GB titânio 3 GB RAM          1168   \n",
       "..                                                 ...           ...   \n",
       "982  Notebook Asus ZenBook 14 UX431FA-AN203T - Inte...       5224.05   \n",
       "983  Notebook Asus ZenBook 14 UX434FAC-A6339T - Int...       5699.05   \n",
       "984  Notebook Gamer Acer Predator Helios 300 - PH31...       7789.05   \n",
       "985  Notebook Vaio FE14 VJFE41F11X-B0911H Intel Cor...       3039.05   \n",
       "986  Notebook 2 em 1 Dell Inspiron i14-5481-M11 8ª ...       3239.10   \n",
       "\n",
       "    product_search                 search_date         website  \\\n",
       "0          celular  2020-12-11 10:32:59.461051   Mercado Livre   \n",
       "1          celular  2020-12-11 10:32:59.463049   Mercado Livre   \n",
       "2          celular  2020-12-11 10:32:59.465047   Mercado Livre   \n",
       "3          celular  2020-12-11 10:32:59.467047   Mercado Livre   \n",
       "4          celular  2020-12-11 10:32:59.468046   Mercado Livre   \n",
       "..             ...                         ...             ...   \n",
       "982       notebook  2020-12-11 10:33:51.100937  Magazine Luiza   \n",
       "983       notebook  2020-12-11 10:33:51.102937  Magazine Luiza   \n",
       "984       notebook  2020-12-11 10:33:51.104936  Magazine Luiza   \n",
       "985       notebook  2020-12-11 10:33:51.106935  Magazine Luiza   \n",
       "986       notebook  2020-12-11 10:33:51.108934  Magazine Luiza   \n",
       "\n",
       "                                                   url  \n",
       "0    https://lista.mercadolivre.com.br/celular#D[A:...  \n",
       "1    https://lista.mercadolivre.com.br/celular#D[A:...  \n",
       "2    https://lista.mercadolivre.com.br/celular#D[A:...  \n",
       "3    https://lista.mercadolivre.com.br/celular#D[A:...  \n",
       "4    https://lista.mercadolivre.com.br/celular#D[A:...  \n",
       "..                                                 ...  \n",
       "982   https://www.magazineluiza.com.br/busca/notebook/  \n",
       "983   https://www.magazineluiza.com.br/busca/notebook/  \n",
       "984   https://www.magazineluiza.com.br/busca/notebook/  \n",
       "985   https://www.magazineluiza.com.br/busca/notebook/  \n",
       "986   https://www.magazineluiza.com.br/busca/notebook/  \n",
       "\n",
       "[987 rows x 6 columns]"
      ]
     },
     "execution_count": 6,
     "metadata": {},
     "output_type": "execute_result"
    }
   ],
   "source": [
    "# Como a base de dados fica:\n",
    "data"
   ]
  },
  {
   "cell_type": "markdown",
   "metadata": {},
   "source": [
    "### Curiosidades"
   ]
  },
  {
   "cell_type": "markdown",
   "metadata": {},
   "source": [
    "Aqui faço uma comparação dos preços médios das procuras por \"celular\" e \"iphone\""
   ]
  },
  {
   "cell_type": "code",
   "execution_count": 7,
   "metadata": {},
   "outputs": [],
   "source": [
    "cel = data[data['product_search']=='celular']['product_price'].astype('float').mean()\n",
    "iphone = data[data['product_search']=='iphone']['product_price'].astype('float').mean()"
   ]
  },
  {
   "cell_type": "code",
   "execution_count": 8,
   "metadata": {},
   "outputs": [
    {
     "name": "stdout",
     "output_type": "stream",
     "text": [
      "Ticket médio por busca: \n",
      "-Iphone: R$ 5346.12\n",
      "-Celular: R$ 1496.66\n"
     ]
    }
   ],
   "source": [
    "print('Ticket médio por busca: \\n-Iphone: R$ {:.2f}\\n-Celular: R$ {:.2f}'.format(iphone, cel))"
   ]
  }
 ],
 "metadata": {
  "kernelspec": {
   "display_name": "Python 3",
   "language": "python",
   "name": "python3"
  },
  "language_info": {
   "codemirror_mode": {
    "name": "ipython",
    "version": 3
   },
   "file_extension": ".py",
   "mimetype": "text/x-python",
   "name": "python",
   "nbconvert_exporter": "python",
   "pygments_lexer": "ipython3",
   "version": "3.7.1"
  }
 },
 "nbformat": 4,
 "nbformat_minor": 4
}
